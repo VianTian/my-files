{
 "cells": [
  {
   "cell_type": "markdown",
   "metadata": {},
   "source": [
    "# Lecture1 Notebook\n",
    "## Weiyi Tian\n",
    "## 22593034\n",
    "\n",
    "Comments copy from https://www.youtube.com/watch?v=-jv3CgDN9sc&list=PLRqwX-V7Uu6bJM3VgzjNV5YxVxUwzALHV&index=4\n",
    "<br/>\n",
    "Code refers from https://github.com/nature-of-code/noc-examples-processing/tree/master/chp09_ga/NOC_9_01_GA_Shakespeare and https://github.com/YuliyaLab/AIclass"
   ]
  },
  {
   "cell_type": "code",
   "execution_count": 1,
   "metadata": {},
   "outputs": [],
   "source": [
    "# set target, N elements each population, mutation rate\n",
    "import random, string\n",
    "target = 'To be or not to be'\n",
    "N = 1000\n",
    "mutrate = 0.05"
   ]
  },
  {
   "cell_type": "markdown",
   "metadata": {},
   "source": [
    "## SETUP\n",
    "### Step 1\n",
    "Initialize: Create a population of N elements, each with randomly generated phrase (string)\n",
    "<br/>\n",
    "Population: a big array of N elements; each element is a random phrase; each phrase is a list of character (string)"
   ]
  },
  {
   "cell_type": "code",
   "execution_count": 2,
   "metadata": {},
   "outputs": [],
   "source": [
    "# randomly generate phrase\n",
    "def InitialPhrase(target):\n",
    "    phrase = ''\n",
    "    for ii in range(len(target)):\n",
    "        phrase = phrase + random.choice(string.ascii_letters + ' ')\n",
    "    return phrase"
   ]
  },
  {
   "cell_type": "code",
   "execution_count": 3,
   "metadata": {},
   "outputs": [],
   "source": [
    "# generate population\n",
    "def InitialPopulation(target, N):\n",
    "    population = []\n",
    "    for ii in range(N):\n",
    "        population.append(InitialPhrase(target))\n",
    "    return population"
   ]
  },
  {
   "cell_type": "markdown",
   "metadata": {},
   "source": [
    "## Draw\n",
    "### Step 2\n",
    "Selection: Evaluate the fitness of each element of the population and build a mating pool"
   ]
  },
  {
   "cell_type": "code",
   "execution_count": 4,
   "metadata": {},
   "outputs": [],
   "source": [
    "# initial population\n",
    "population = InitialPopulation(target, N)\n",
    "\n",
    "# evaluate the fitness\n",
    "def EvalFitness(target, N, population):\n",
    "    \n",
    "    fitpopulation = []\n",
    "    \n",
    "    for ii in range(len(population)):\n",
    "        score = 0\n",
    "        for jj in range(len(population[ii])):\n",
    "            if target[jj] == population[ii][jj]:\n",
    "                score += 1\n",
    "    \n",
    "        fitness = score / len(target)\n",
    "        fitpopulation.append((population[ii], fitness))\n",
    "        \n",
    "    # return ranked population with fitness\n",
    "    return sorted(fitpopulation, key = lambda x: x[1], reverse = True)"
   ]
  },
  {
   "cell_type": "code",
   "execution_count": 5,
   "metadata": {},
   "outputs": [],
   "source": [
    "# build a mating pool\n",
    "# phrase with higher fitness has more chance to be selected\n",
    "def MatingPool(target, N, population):\n",
    "    \n",
    "    rankedpop = EvalFitness(target, N, population)    \n",
    "    matingpool = []\n",
    "    \n",
    "    for ii in range(len(rankedpop)):\n",
    "        if rankedpop[ii][1] > 0:\n",
    "            for jj in range(int(rankedpop[ii][1] / (1 / len(target)))):\n",
    "                matingpool.append(rankedpop[ii][0])\n",
    "        else:\n",
    "            break\n",
    "    return matingpool"
   ]
  },
  {
   "cell_type": "markdown",
   "metadata": {},
   "source": [
    "### Step 3\n",
    "Reproduction: Repeat N times:\n",
    "* Pick n parents with probability according to relative fitness\n",
    "* Crossover - create a 'child' by combining the phrase of these parents\n",
    "* Mutation - mutate the child's phrase based on a given probability\n",
    "* Add the new child to a new population"
   ]
  },
  {
   "cell_type": "code",
   "execution_count": 6,
   "metadata": {},
   "outputs": [],
   "source": [
    "# initial matingpool\n",
    "matingpool = MatingPool(target, N, population)\n",
    "\n",
    "def Reproduction(target, N, matingpool):\n",
    "    \n",
    "    # pick 2 parents with probability according to relative fitness\n",
    "    parent1 = random.choice(matingpool)\n",
    "    parent2 = random.choice(matingpool)                        \n",
    "                                      \n",
    "    # crossover\n",
    "    breakpoint = random.randint(1,len(target)) - 1\n",
    "    child = parent1[ : breakpoint] + parent2[breakpoint : ]\n",
    "    \n",
    "    # mutation\n",
    "    if random.random() < mutrate:\n",
    "        mutpoint = random.randint(1,len(target)) - 1\n",
    "        mutchar = random.choice(string.ascii_letters + ' ')\n",
    "        child = child[ : mutpoint] + mutchar + child[mutpoint + 1 : ]\n",
    "        \n",
    "    return child"
   ]
  },
  {
   "cell_type": "code",
   "execution_count": 7,
   "metadata": {},
   "outputs": [],
   "source": [
    "# generate new population\n",
    "def NewPopulatin(target, N, matingpool):\n",
    "    \n",
    "    # get new matingpool for the new population\n",
    "    matingpool = MatingPool(target, N, population)\n",
    "    newpopulation = []\n",
    "    \n",
    "    for ii in range(N):\n",
    "        newpopulation.append(Reproduction(target, N, matingpool))\n",
    "    return newpopulation"
   ]
  },
  {
   "cell_type": "markdown",
   "metadata": {},
   "source": [
    "### Step 4\n",
    "Replace the old population with the new population and return to Step 2"
   ]
  },
  {
   "cell_type": "code",
   "execution_count": 8,
   "metadata": {},
   "outputs": [
    {
     "name": "stdout",
     "output_type": "stream",
     "text": [
      "mULbhVHd QvtnQxibs\n",
      "Mo XoxLX QvtnQxibD\n",
      "Mo bjAud QvtnQxibs\n",
      "TAGDe dWAnKa xoHKD\n",
      "GoMDe dWKKQtntogbL\n",
      "foJbeSpgAnKa to zs\n",
      "To De oNveVD Uo zl\n",
      "To De oNveVD Uo zl\n",
      "To De oNveVD Uo bh\n",
      "ToMDe tAqnvE xo be\n",
      "To De dgVnbb ts bI\n",
      "To he dD nrLbto bK\n",
      "ToMDe dgVnbtnto be\n",
      "Mc Ye olinvt to bK\n",
      "To De dr QvE xo be\n",
      "Zo De oNKnoE to bk\n",
      "To De oNKnoE to bk\n",
      "To De drunnt xo be\n",
      "To be wrtniL togbe\n",
      "To De drDnbt to bf\n",
      "To De dr Qbt to bK\n",
      "To be OrVnbt to He\n",
      "To ze ox nbb to be\n",
      "ho be or nQt to b \n",
      "To be or nQt to b \n",
      "To be or nQt to b \n",
      "To be or nQt to b \n",
      "To be or noX to bs\n",
      "Togbe or nQt to be\n",
      "Togbe or nQt to be\n",
      "Togbe or nQt to be\n",
      "To Pe ortnot to be\n",
      "To be or QXt to be\n",
      "To Pe or notnto be\n",
      "To be orcnot to be\n",
      "Ko be or not to be\n",
      "To be or nKt to be\n",
      "To qe or not to be\n",
      "To be or nKt to be\n",
      "To be or not to be\n"
     ]
    }
   ],
   "source": [
    "# replace the old population with the new population and return to Step 2\n",
    "# until generate target phrase\n",
    "while target not in population:\n",
    "    population = NewPopulatin(target, N, matingpool)\n",
    "    print(EvalFitness(target, N, population)[0][0])"
   ]
  }
 ],
 "metadata": {
  "kernelspec": {
   "display_name": "Python 3",
   "language": "python",
   "name": "python3"
  },
  "language_info": {
   "codemirror_mode": {
    "name": "ipython",
    "version": 3
   },
   "file_extension": ".py",
   "mimetype": "text/x-python",
   "name": "python",
   "nbconvert_exporter": "python",
   "pygments_lexer": "ipython3",
   "version": "3.7.1"
  }
 },
 "nbformat": 4,
 "nbformat_minor": 2
}
